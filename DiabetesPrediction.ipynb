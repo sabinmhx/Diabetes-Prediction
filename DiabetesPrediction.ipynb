{
 "cells": [
  {
   "cell_type": "code",
   "execution_count": 1,
   "id": "4a8d1f30-caa6-4784-998c-517b25ef58c2",
   "metadata": {
    "tags": []
   },
   "outputs": [
    {
     "ename": "ModuleNotFoundError",
     "evalue": "No module named 'seaborn'",
     "output_type": "error",
     "traceback": [
      "\u001b[1;31m---------------------------------------------------------------------------\u001b[0m",
      "\u001b[1;31mModuleNotFoundError\u001b[0m                       Traceback (most recent call last)",
      "Cell \u001b[1;32mIn[1], line 3\u001b[0m\n\u001b[0;32m      1\u001b[0m \u001b[38;5;28;01mimport\u001b[39;00m \u001b[38;5;21;01mpandas\u001b[39;00m \u001b[38;5;28;01mas\u001b[39;00m \u001b[38;5;21;01mpd\u001b[39;00m\n\u001b[0;32m      2\u001b[0m \u001b[38;5;28;01mimport\u001b[39;00m \u001b[38;5;21;01mnumpy\u001b[39;00m \u001b[38;5;28;01mas\u001b[39;00m \u001b[38;5;21;01mnp\u001b[39;00m\n\u001b[1;32m----> 3\u001b[0m \u001b[38;5;28;01mimport\u001b[39;00m \u001b[38;5;21;01mseaborn\u001b[39;00m \u001b[38;5;28;01mas\u001b[39;00m \u001b[38;5;21;01msns\u001b[39;00m\n\u001b[0;32m      4\u001b[0m \u001b[38;5;28;01mimport\u001b[39;00m \u001b[38;5;21;01mmatplotlib\u001b[39;00m\u001b[38;5;21;01m.\u001b[39;00m\u001b[38;5;21;01mpyplot\u001b[39;00m \u001b[38;5;28;01mas\u001b[39;00m \u001b[38;5;21;01mplt\u001b[39;00m\n\u001b[0;32m      5\u001b[0m get_ipython()\u001b[38;5;241m.\u001b[39mrun_line_magic(\u001b[38;5;124m'\u001b[39m\u001b[38;5;124mmatplotlib\u001b[39m\u001b[38;5;124m'\u001b[39m, \u001b[38;5;124m'\u001b[39m\u001b[38;5;124minline\u001b[39m\u001b[38;5;124m'\u001b[39m)\n",
      "\u001b[1;31mModuleNotFoundError\u001b[0m: No module named 'seaborn'"
     ]
    }
   ],
   "source": [
    "import pandas as pd\n",
    "import numpy as np\n",
    "import seaborn as sns\n",
    "import matplotlib.pyplot as plt\n",
    "%matplotlib inline\n",
    "df=pd.read_csv('diabetes.csv')\n",
    "df.head()"
   ]
  },
  {
   "cell_type": "code",
   "execution_count": 2,
   "id": "3367a9bf",
   "metadata": {
    "tags": []
   },
   "outputs": [
    {
     "ename": "NameError",
     "evalue": "name 'df' is not defined",
     "output_type": "error",
     "traceback": [
      "\u001b[1;31m---------------------------------------------------------------------------\u001b[0m",
      "\u001b[1;31mNameError\u001b[0m                                 Traceback (most recent call last)",
      "Cell \u001b[1;32mIn[2], line 2\u001b[0m\n\u001b[0;32m      1\u001b[0m \u001b[38;5;66;03m#let's describe the data\u001b[39;00m\n\u001b[1;32m----> 2\u001b[0m \u001b[43mdf\u001b[49m\u001b[38;5;241m.\u001b[39mdescribe()\n",
      "\u001b[1;31mNameError\u001b[0m: name 'df' is not defined"
     ]
    }
   ],
   "source": [
    "#let's describe the data\n",
    "df.describe()"
   ]
  },
  {
   "cell_type": "code",
   "execution_count": 3,
   "id": "3540f84d",
   "metadata": {
    "tags": []
   },
   "outputs": [
    {
     "ename": "NameError",
     "evalue": "name 'df' is not defined",
     "output_type": "error",
     "traceback": [
      "\u001b[1;31m---------------------------------------------------------------------------\u001b[0m",
      "\u001b[1;31mNameError\u001b[0m                                 Traceback (most recent call last)",
      "Cell \u001b[1;32mIn[3], line 2\u001b[0m\n\u001b[0;32m      1\u001b[0m \u001b[38;5;66;03m#information of dataset\u001b[39;00m\n\u001b[1;32m----> 2\u001b[0m \u001b[43mdf\u001b[49m\u001b[38;5;241m.\u001b[39minfo()\n",
      "\u001b[1;31mNameError\u001b[0m: name 'df' is not defined"
     ]
    }
   ],
   "source": [
    "#information of dataset\n",
    "df.info()"
   ]
  },
  {
   "cell_type": "code",
   "execution_count": 4,
   "id": "1476c951",
   "metadata": {
    "tags": []
   },
   "outputs": [
    {
     "ename": "NameError",
     "evalue": "name 'df' is not defined",
     "output_type": "error",
     "traceback": [
      "\u001b[1;31m---------------------------------------------------------------------------\u001b[0m",
      "\u001b[1;31mNameError\u001b[0m                                 Traceback (most recent call last)",
      "Cell \u001b[1;32mIn[4], line 3\u001b[0m\n\u001b[0;32m      1\u001b[0m \u001b[38;5;66;03m#any null values\u001b[39;00m\n\u001b[0;32m      2\u001b[0m \u001b[38;5;66;03m#not necessary in above information we can see\u001b[39;00m\n\u001b[1;32m----> 3\u001b[0m \u001b[43mdf\u001b[49m\u001b[38;5;241m.\u001b[39misnull()\u001b[38;5;241m.\u001b[39mvalues\u001b[38;5;241m.\u001b[39many()\n",
      "\u001b[1;31mNameError\u001b[0m: name 'df' is not defined"
     ]
    }
   ],
   "source": [
    "#any null values\n",
    "#not necessary in above information we can see\n",
    "df.isnull().values.any()"
   ]
  },
  {
   "cell_type": "code",
   "execution_count": 5,
   "id": "4a31b17f",
   "metadata": {
    "tags": []
   },
   "outputs": [
    {
     "ename": "NameError",
     "evalue": "name 'df' is not defined",
     "output_type": "error",
     "traceback": [
      "\u001b[1;31m---------------------------------------------------------------------------\u001b[0m",
      "\u001b[1;31mNameError\u001b[0m                                 Traceback (most recent call last)",
      "Cell \u001b[1;32mIn[5], line 2\u001b[0m\n\u001b[0;32m      1\u001b[0m \u001b[38;5;66;03m#histogram\u001b[39;00m\n\u001b[1;32m----> 2\u001b[0m \u001b[43mdf\u001b[49m\u001b[38;5;241m.\u001b[39mhist(bins\u001b[38;5;241m=\u001b[39m\u001b[38;5;241m10\u001b[39m,figsize\u001b[38;5;241m=\u001b[39m(\u001b[38;5;241m10\u001b[39m,\u001b[38;5;241m10\u001b[39m))\n\u001b[0;32m      3\u001b[0m plt\u001b[38;5;241m.\u001b[39mshow()\n",
      "\u001b[1;31mNameError\u001b[0m: name 'df' is not defined"
     ]
    }
   ],
   "source": [
    "#histogram\n",
    "df.hist(bins=10,figsize=(10,10))\n",
    "plt.show()"
   ]
  },
  {
   "cell_type": "code",
   "execution_count": 6,
   "id": "c40b13de",
   "metadata": {
    "tags": []
   },
   "outputs": [
    {
     "ename": "NameError",
     "evalue": "name 'sns' is not defined",
     "output_type": "error",
     "traceback": [
      "\u001b[1;31m---------------------------------------------------------------------------\u001b[0m",
      "\u001b[1;31mNameError\u001b[0m                                 Traceback (most recent call last)",
      "Cell \u001b[1;32mIn[6], line 2\u001b[0m\n\u001b[0;32m      1\u001b[0m \u001b[38;5;66;03m#correlation\u001b[39;00m\n\u001b[1;32m----> 2\u001b[0m \u001b[43msns\u001b[49m\u001b[38;5;241m.\u001b[39mheatmap(df\u001b[38;5;241m.\u001b[39mcorr())\n\u001b[0;32m      3\u001b[0m \u001b[38;5;66;03m# we can see skin thickness,insulin,pregnancies and age are full independent to each other\u001b[39;00m\n\u001b[0;32m      4\u001b[0m \u001b[38;5;66;03m#age and pregnancies has negative correlation\u001b[39;00m\n",
      "\u001b[1;31mNameError\u001b[0m: name 'sns' is not defined"
     ]
    }
   ],
   "source": [
    "#correlation\n",
    "sns.heatmap(df.corr())\n",
    "# we can see skin thickness,insulin,pregnancies and age are full independent to each other\n",
    "#age and pregnancies has negative correlation"
   ]
  },
  {
   "cell_type": "code",
   "execution_count": 7,
   "id": "b9f7232c",
   "metadata": {
    "tags": []
   },
   "outputs": [
    {
     "ename": "NameError",
     "evalue": "name 'sns' is not defined",
     "output_type": "error",
     "traceback": [
      "\u001b[1;31m---------------------------------------------------------------------------\u001b[0m",
      "\u001b[1;31mNameError\u001b[0m                                 Traceback (most recent call last)",
      "Cell \u001b[1;32mIn[7], line 4\u001b[0m\n\u001b[0;32m      1\u001b[0m \u001b[38;5;66;03m#lets count total outcome in each target 0 1\u001b[39;00m\n\u001b[0;32m      2\u001b[0m \u001b[38;5;66;03m#0 means no diabetes\u001b[39;00m\n\u001b[0;32m      3\u001b[0m \u001b[38;5;66;03m#1 means patient with diabetes\u001b[39;00m\n\u001b[1;32m----> 4\u001b[0m \u001b[43msns\u001b[49m\u001b[38;5;241m.\u001b[39mcountplot(y\u001b[38;5;241m=\u001b[39mdf[\u001b[38;5;124m'\u001b[39m\u001b[38;5;124mOutcome\u001b[39m\u001b[38;5;124m'\u001b[39m],palette\u001b[38;5;241m=\u001b[39m\u001b[38;5;124m'\u001b[39m\u001b[38;5;124mSet1\u001b[39m\u001b[38;5;124m'\u001b[39m)\n",
      "\u001b[1;31mNameError\u001b[0m: name 'sns' is not defined"
     ]
    }
   ],
   "source": [
    "#lets count total outcome in each target 0 1\n",
    "#0 means no diabetes\n",
    "#1 means patient with diabetes\n",
    "sns.countplot(y=df['Outcome'],palette='Set1')"
   ]
  },
  {
   "cell_type": "code",
   "execution_count": 8,
   "id": "8b07a31d",
   "metadata": {
    "tags": []
   },
   "outputs": [
    {
     "ename": "NameError",
     "evalue": "name 'sns' is not defined",
     "output_type": "error",
     "traceback": [
      "\u001b[1;31m---------------------------------------------------------------------------\u001b[0m",
      "\u001b[1;31mNameError\u001b[0m                                 Traceback (most recent call last)",
      "Cell \u001b[1;32mIn[8], line 1\u001b[0m\n\u001b[1;32m----> 1\u001b[0m \u001b[43msns\u001b[49m\u001b[38;5;241m.\u001b[39mset(style\u001b[38;5;241m=\u001b[39m\u001b[38;5;124m\"\u001b[39m\u001b[38;5;124mticks\u001b[39m\u001b[38;5;124m\"\u001b[39m)\n\u001b[0;32m      2\u001b[0m sns\u001b[38;5;241m.\u001b[39mpairplot(df, hue\u001b[38;5;241m=\u001b[39m\u001b[38;5;124m\"\u001b[39m\u001b[38;5;124mOutcome\u001b[39m\u001b[38;5;124m\"\u001b[39m)\n",
      "\u001b[1;31mNameError\u001b[0m: name 'sns' is not defined"
     ]
    }
   ],
   "source": [
    "sns.set(style=\"ticks\")\n",
    "sns.pairplot(df, hue=\"Outcome\")"
   ]
  },
  {
   "cell_type": "code",
   "execution_count": 9,
   "id": "d0664871",
   "metadata": {
    "tags": []
   },
   "outputs": [
    {
     "ename": "NameError",
     "evalue": "name 'sns' is not defined",
     "output_type": "error",
     "traceback": [
      "\u001b[1;31m---------------------------------------------------------------------------\u001b[0m",
      "\u001b[1;31mNameError\u001b[0m                                 Traceback (most recent call last)",
      "Cell \u001b[1;32mIn[9], line 2\u001b[0m\n\u001b[0;32m      1\u001b[0m \u001b[38;5;66;03m#box plot for outlier visualization\u001b[39;00m\n\u001b[1;32m----> 2\u001b[0m \u001b[43msns\u001b[49m\u001b[38;5;241m.\u001b[39mset(style\u001b[38;5;241m=\u001b[39m\u001b[38;5;124m\"\u001b[39m\u001b[38;5;124mwhitegrid\u001b[39m\u001b[38;5;124m\"\u001b[39m)\n\u001b[0;32m      3\u001b[0m df\u001b[38;5;241m.\u001b[39mboxplot(figsize\u001b[38;5;241m=\u001b[39m(\u001b[38;5;241m15\u001b[39m,\u001b[38;5;241m6\u001b[39m))\n",
      "\u001b[1;31mNameError\u001b[0m: name 'sns' is not defined"
     ]
    }
   ],
   "source": [
    "#box plot for outlier visualization\n",
    "sns.set(style=\"whitegrid\")\n",
    "df.boxplot(figsize=(15,6))"
   ]
  },
  {
   "cell_type": "code",
   "execution_count": 10,
   "id": "ab3e240d",
   "metadata": {
    "tags": []
   },
   "outputs": [
    {
     "ename": "NameError",
     "evalue": "name 'sns' is not defined",
     "output_type": "error",
     "traceback": [
      "\u001b[1;31m---------------------------------------------------------------------------\u001b[0m",
      "\u001b[1;31mNameError\u001b[0m                                 Traceback (most recent call last)",
      "Cell \u001b[1;32mIn[10], line 2\u001b[0m\n\u001b[0;32m      1\u001b[0m \u001b[38;5;66;03m#box plot\u001b[39;00m\n\u001b[1;32m----> 2\u001b[0m \u001b[43msns\u001b[49m\u001b[38;5;241m.\u001b[39mset(style\u001b[38;5;241m=\u001b[39m\u001b[38;5;124m\"\u001b[39m\u001b[38;5;124mwhitegrid\u001b[39m\u001b[38;5;124m\"\u001b[39m)\n\u001b[0;32m      3\u001b[0m sns\u001b[38;5;241m.\u001b[39mset(rc\u001b[38;5;241m=\u001b[39m{\u001b[38;5;124m'\u001b[39m\u001b[38;5;124mfigure.figsize\u001b[39m\u001b[38;5;124m'\u001b[39m:(\u001b[38;5;241m4\u001b[39m,\u001b[38;5;241m2\u001b[39m)})\n\u001b[0;32m      4\u001b[0m sns\u001b[38;5;241m.\u001b[39mboxplot(x\u001b[38;5;241m=\u001b[39mdf[\u001b[38;5;124m'\u001b[39m\u001b[38;5;124mInsulin\u001b[39m\u001b[38;5;124m'\u001b[39m])\n",
      "\u001b[1;31mNameError\u001b[0m: name 'sns' is not defined"
     ]
    }
   ],
   "source": [
    "#box plot\n",
    "sns.set(style=\"whitegrid\")\n",
    "sns.set(rc={'figure.figsize':(4,2)})\n",
    "sns.boxplot(x=df['Insulin'])\n",
    "plt.show()\n",
    "sns.boxplot(x=df['BloodPressure'])\n",
    "plt.show()\n",
    "sns.boxplot(x=df['DiabetesPedigreeFunction'])\n",
    "plt.show()"
   ]
  },
  {
   "cell_type": "code",
   "execution_count": 11,
   "id": "1aa26418",
   "metadata": {
    "tags": []
   },
   "outputs": [
    {
     "ename": "NameError",
     "evalue": "name 'df' is not defined",
     "output_type": "error",
     "traceback": [
      "\u001b[1;31m---------------------------------------------------------------------------\u001b[0m",
      "\u001b[1;31mNameError\u001b[0m                                 Traceback (most recent call last)",
      "Cell \u001b[1;32mIn[11], line 2\u001b[0m\n\u001b[0;32m      1\u001b[0m \u001b[38;5;66;03m#outlier remove\u001b[39;00m\n\u001b[1;32m----> 2\u001b[0m Q1\u001b[38;5;241m=\u001b[39m\u001b[43mdf\u001b[49m\u001b[38;5;241m.\u001b[39mquantile(\u001b[38;5;241m0.25\u001b[39m)\n\u001b[0;32m      3\u001b[0m Q3\u001b[38;5;241m=\u001b[39mdf\u001b[38;5;241m.\u001b[39mquantile(\u001b[38;5;241m0.75\u001b[39m)\n\u001b[0;32m      4\u001b[0m IQR\u001b[38;5;241m=\u001b[39mQ3\u001b[38;5;241m-\u001b[39mQ1\n",
      "\u001b[1;31mNameError\u001b[0m: name 'df' is not defined"
     ]
    }
   ],
   "source": [
    "#outlier remove\n",
    "Q1=df.quantile(0.25)\n",
    "Q3=df.quantile(0.75)\n",
    "IQR=Q3-Q1\n",
    "print(\"---Q1--- \\n\",Q1)\n",
    "print(\"\\n---Q3--- \\n\",Q3)\n",
    "print(\"\\n---IQR---\\n\",IQR)\n",
    "#print((df < (Q1 - 1.5 * IQR))|(df > (Q3 + 1.5 * IQR)))"
   ]
  },
  {
   "cell_type": "code",
   "execution_count": null,
   "id": "89c33c5d",
   "metadata": {},
   "outputs": [],
   "source": [
    "#outlier remove\n",
    "df_out = df[~((df < (Q1 - 1.5 * IQR)) |(df > (Q3 + 1.5 * IQR))).any(axis=1)]\n",
    "df.shape,df_out.shape\n",
    "#more than 80 records deleted"
   ]
  },
  {
   "cell_type": "code",
   "execution_count": null,
   "id": "43caaa1d",
   "metadata": {},
   "outputs": [],
   "source": [
    "#lets extract features and targets\n",
    "X=df_out.drop(columns=['Outcome'])\n",
    "y=df_out['Outcome']\n",
    "#Splitting train test data 80 20 ratio\n",
    "from sklearn.model_selection import train_test_split\n",
    "train_X,test_X,train_y,test_y=train_test_split(X,y,test_size=0.2)\n",
    "train_X.shape,test_X.shape,train_y.shape,test_y.shape"
   ]
  },
  {
   "cell_type": "code",
   "execution_count": null,
   "id": "4f6a81ba",
   "metadata": {},
   "outputs": [],
   "source": [
    "from sklearn.metrics import confusion_matrix,accuracy_score,make_scorer\n",
    "from sklearn.model_selection import cross_validate\n",
    "def tn(y_true, y_pred): return confusion_matrix(y_true, y_pred)[0, 0]\n",
    "def fp(y_true, y_pred): return confusion_matrix(y_true, y_pred)[0, 1]\n",
    "def fn(y_true, y_pred): return confusion_matrix(y_true, y_pred)[1, 0]\n",
    "def tp(y_true, y_pred): return confusion_matrix(y_true, y_pred)[1, 1]\n",
    "#cross validation purpose\n",
    "scoring = {'accuracy': make_scorer(accuracy_score),'prec': 'precision'}\n",
    "scoring = {'tp': make_scorer(tp), 'tn': make_scorer(tn),\n",
    "'fp': make_scorer(fp), 'fn': make_scorer(fn)}\n",
    "def display_result(result):\n",
    "print(\"TP: \",result['test_tp'])\n",
    "print(\"TN: \",result['test_tn'])\n",
    "print(\"FN: \",result['test_fn'])\n",
    "print(\"FP: \",result['test_fp'])"
   ]
  },
  {
   "cell_type": "code",
   "execution_count": null,
   "id": "99d66fb8",
   "metadata": {},
   "outputs": [],
   "source": [
    "#Logistic Regression\n",
    "from sklearn.linear_model import LogisticRegression\n",
    "from sklearn.metrics import roc_auc_score\n",
    "acc=[]\n",
    "roc=[]\n",
    "clf=LogisticRegression()\n",
    "clf.fit(train_X,train_y)\n",
    "y_pred=clf.predict(test_X)\n",
    "#find accuracy\n",
    "ac=accuracy_score(test_y,y_pred)\n",
    "acc.append(ac)\n",
    "#find the ROC_AOC curve\n",
    "rc=roc_auc_score(test_y,y_pred)\n",
    "roc.append(rc)\n",
    "print(\"\\nAccuracy {0} ROC {1}\".format(ac,rc))\n",
    "#cross val score\n",
    "result=cross_validate(clf,train_X,train_y,scoring=scoring,cv=10)\n",
    "display_result(result)\n",
    "#display predicted values uncomment below line\n",
    "#pd.DataFrame(data={'Actual':test_y,'Predicted':y_pred}).head()"
   ]
  },
  {
   "cell_type": "code",
   "execution_count": null,
   "id": "081e64b2",
   "metadata": {},
   "outputs": [],
   "source": [
    "#Support Vector Machine\n",
    "from sklearn.svm import SVC\n",
    "clf=SVC(kernel='linear')\n",
    "clf.fit(train_X,train_y)\n",
    "y_pred=clf.predict(test_X)\n",
    "#find accuracy\n",
    "ac=accuracy_score(test_y,y_pred)\n",
    "acc.append(ac)\n",
    "#find the ROC_AOC curve\n",
    "rc=roc_auc_score(test_y,y_pred)\n",
    "roc.append(rc)\n",
    "print(\"\\nAccuracy {0} ROC {1}\".format(ac,rc))\n",
    "#cross val score\n",
    "result=cross_validate(clf,train_X,train_y,scoring=scoring,cv=10)\n",
    "display_result(result)\n",
    "#display predicted values uncomment below line\n",
    "#pd.DataFrame(data={'Actual':test_y,'Predicted':y_pred}).head()"
   ]
  },
  {
   "cell_type": "code",
   "execution_count": null,
   "id": "ca03d94a",
   "metadata": {},
   "outputs": [],
   "source": [
    "#KNN\n",
    "from sklearn.neighbors import KNeighborsClassifier\n",
    "clf=KNeighborsClassifier(n_neighbors=3)\n",
    "clf.fit(train_X,train_y)\n",
    "y_pred=clf.predict(test_X)\n",
    "#find accuracy\n",
    "ac=accuracy_score(test_y,y_pred)\n",
    "acc.append(ac)\n",
    "#find the ROC_AOC curve\n",
    "rc=roc_auc_score(test_y,y_pred)\n",
    "roc.append(rc)\n",
    "print(\"\\nAccuracy {0} ROC {1}\".format(ac,rc))\n",
    "#cross val score\n",
    "result=cross_validate(clf,train_X,train_y,scoring=scoring,cv=10)\n",
    "display_result(result)\n",
    "#display predicted values uncomment below line\n",
    "#pd.DataFrame(data={'Actual':test_y,'Predicted':y_pred}).head()"
   ]
  },
  {
   "cell_type": "code",
   "execution_count": null,
   "id": "c1ceafba",
   "metadata": {},
   "outputs": [],
   "source": [
    "#Random forest\n",
    "from sklearn.ensemble import RandomForestClassifier\n",
    "clf=RandomForestClassifier()\n",
    "clf.fit(train_X,train_y)\n",
    "y_pred=clf.predict(test_X)\n",
    "#find accuracy\n",
    "ac=accuracy_score(test_y,y_pred)\n",
    "acc.append(ac)\n",
    "#find the ROC_AOC curve\n",
    "rc=roc_auc_score(test_y,y_pred)\n",
    "roc.append(rc)\n",
    "print(\"\\nAccuracy {0} ROC {1}\".format(ac,rc))\n",
    "#cross val score\n",
    "result=cross_validate(clf,train_X,train_y,scoring=scoring,cv=10)\n",
    "display_result(result)\n",
    "#display predicted values uncomment below line\n",
    "#pd.DataFrame(data={'Actual':test_y,'Predicted':y_pred}).head()"
   ]
  },
  {
   "cell_type": "code",
   "execution_count": null,
   "id": "049fa06a",
   "metadata": {},
   "outputs": [],
   "source": [
    "#Naive Bayes Theorem\n",
    "#import library\n",
    "from sklearn.naive_bayes import GaussianNB\n",
    "clf=GaussianNB()\n",
    "clf.fit(train_X,train_y)\n",
    "y_pred=clf.predict(test_X)\n",
    "#find accuracy\n",
    "ac=accuracy_score(test_y,y_pred)\n",
    "acc.append(ac)\n",
    "#find the ROC_AOC curve\n",
    "rc=roc_auc_score(test_y,y_pred)\n",
    "roc.append(rc)\n",
    "print(\"\\nAccuracy {0} ROC {1}\".format(ac,rc))\n",
    "#cross val score\n",
    "result=cross_validate(clf,train_X,train_y,scoring=scoring,cv=10)\n",
    "display_result(result)\n",
    "#display predicted values uncomment below line\n",
    "#pd.DataFrame(data={'Actual':test_y,'Predicted':y_pred}).head()"
   ]
  },
  {
   "cell_type": "code",
   "execution_count": null,
   "id": "bc257d3d",
   "metadata": {},
   "outputs": [],
   "source": [
    "#Gradient Boosting Classifier\n",
    "from sklearn.ensemble import GradientBoostingClassifier\n",
    "clf=GradientBoostingClassifier(n_estimators=50,learning_rate=0.2)\n",
    "clf.fit(train_X,train_y)\n",
    "y_pred=clf.predict(test_X)\n",
    "#find accuracy\n",
    "ac=accuracy_score(test_y,y_pred)\n",
    "acc.append(ac)\n",
    "#find the ROC_AOC curve\n",
    "rc=roc_auc_score(test_y,y_pred)\n",
    "roc.append(rc)\n",
    "print(\"\\nAccuracy {0} ROC {1}\".format(ac,rc))\n",
    "#cross val score\n",
    "result=cross_validate(clf,train_X,train_y,scoring=scoring,cv=10)\n",
    "display_result(result)\n",
    "#display predicted values uncomment below line\n",
    "#pd.DataFrame(data={'Actual':test_y,'Predicted':y_pred}).head()"
   ]
  },
  {
   "cell_type": "code",
   "execution_count": null,
   "id": "5a0a97c0",
   "metadata": {},
   "outputs": [],
   "source": [
    "#lets plot the bar graph\n",
    "ax=plt.figure(figsize=(9,4))\n",
    "plt.bar(['Logistic Regression','SVM','KNN','Random Forest','Naive Bayes','Gradient\n",
    "Boosting'],acc,label='Accuracy')\n",
    "plt.ylabel('Accuracy Score')\n",
    "plt.xlabel('Algorithms')\n",
    "plt.show()\n",
    "ax=plt.figure(figsize=(9,4))\n",
    "plt.bar(['Logistic Regression','SVM','KNN','Random Forest','Naive Bayes','Gradient\n",
    "Boosting'],roc,label='ROC AUC')\n",
    "plt.ylabel('ROC AUC')\n",
    "plt.xlabel('Algorithms')\n",
    "plt.show()"
   ]
  }
 ],
 "metadata": {
  "kernelspec": {
   "display_name": "Python 3 (ipykernel)",
   "language": "python",
   "name": "python3"
  },
  "language_info": {
   "codemirror_mode": {
    "name": "ipython",
    "version": 3
   },
   "file_extension": ".py",
   "mimetype": "text/x-python",
   "name": "python",
   "nbconvert_exporter": "python",
   "pygments_lexer": "ipython3",
   "version": "3.11.1"
  }
 },
 "nbformat": 4,
 "nbformat_minor": 5
}
